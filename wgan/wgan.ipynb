{
 "cells": [
  {
   "cell_type": "markdown",
   "metadata": {},
   "source": [
    "# Wasserstein GAN Study"
   ]
  },
  {
   "cell_type": "markdown",
   "metadata": {},
   "source": [
    "The Wasserstein GAN (WGAN paper \\[1\\] proposed a new way of training the Generative Adversarial Nets (GANs) \\[2\\], which improves the stability and allows the discriminator can be trained to convergence. In particular, the authors proved that the Earth-Mover (EM) distance behaves better than the Jensen-Shannon (JS) divergence in terms of sensibility and smooth gradients. "
   ]
  },
  {
   "cell_type": "markdown",
   "metadata": {},
   "source": [
    "To demonstrate this property, the author provided some simple examples besides the rigorous math proofs. In this notebook, I'll replicate some of the results in the WGAN paper. First, we focus on replicating Figure 2:"
   ]
  },
  {
   "cell_type": "markdown",
   "metadata": {},
   "source": [
    "![](fig2.png)"
   ]
  },
  {
   "cell_type": "markdown",
   "metadata": {},
   "source": [
    "In this proof of concept experiment, the authors trained a GAN discriminator and a WGAN critic to differentiate two Gaussian distributions. The result shows that the GAN discriminator saturates while the WGAN critic has much nicer gradients. \n",
    "\n",
    "PyTorch is used in here for training."
   ]
  },
  {
   "cell_type": "code",
   "execution_count": 1,
   "metadata": {},
   "outputs": [],
   "source": [
    "import torch\n",
    "import torch.nn.functional as F\n",
    "\n",
    "import numpy as np\n",
    "import matplotlib.pyplot as plt"
   ]
  },
  {
   "cell_type": "markdown",
   "metadata": {},
   "source": [
    "## Original GAN"
   ]
  },
  {
   "cell_type": "markdown",
   "metadata": {},
   "source": [
    "About Figure 2, Ref. \\[1\\] says: \n",
    "\n",
    "> In Figure 2 we show a proof of concept of this, where we train a GAN discriminator and a WGAN critic till optimality. \n",
    "\n",
    "No more details are provided, we don't know what models and parameters are used, so we start from trying the most simple and basic model: "
   ]
  },
  {
   "cell_type": "code",
   "execution_count": 2,
   "metadata": {},
   "outputs": [],
   "source": [
    "disc = torch.nn.Sequential(\n",
    "    torch.nn.Linear(1, 10),\n",
    "    torch.nn.ReLU(),\n",
    "    torch.nn.Linear(10, 1),\n",
    "    torch.nn.Sigmoid())"
   ]
  },
  {
   "cell_type": "markdown",
   "metadata": {},
   "source": [
    "The discriminator's output is the probability of being real, so we use the $\\mathrm{sigmoid}$ function as the last layer. "
   ]
  },
  {
   "cell_type": "markdown",
   "metadata": {},
   "source": [
    "In this experiment, the generator's distribution is fixed and we only train the discriminator. According to Ref. \\[2\\], we train the discriminator by maximizing the Jensen–Shannon divergence, which is equivalent to minimizing:\n",
    "$$\n",
    "-\\mathbb{E}_{x\\sim\\mathbb{P}_r}[\\log(D(x))] - \\mathbb{E}_{x\\sim\\mathbb{P}_\\theta}[\\log(1 - D(x))]\n",
    "$$"
   ]
  },
  {
   "cell_type": "markdown",
   "metadata": {},
   "source": [
    "Now we train the discriminator: "
   ]
  },
  {
   "cell_type": "code",
   "execution_count": 16,
   "metadata": {},
   "outputs": [
    {
     "name": "stdout",
     "output_type": "stream",
     "text": [
      "0.0001980237866519019\n",
      "0.0002780080249067396\n",
      "6.355854566209018e-05\n",
      "4.80399867228698e-05\n",
      "7.15897767804563e-05\n",
      "5.986582254990935e-05\n",
      "5.329014311428182e-05\n",
      "2.406522980891168e-05\n",
      "2.7522968593984842e-05\n",
      "3.9518330595456064e-05\n"
     ]
    }
   ],
   "source": [
    "lr = 5e-1\n",
    "bs = 64\n",
    "N = 1000\n",
    "for i in range(N):\n",
    "    real = torch.randn([bs,1]) - 5\n",
    "    fake = torch.randn([bs,1]) + 5    \n",
    "    loss = - torch.log(disc(real)).mean() - torch.log(1 - disc(fake)).mean() \n",
    "    if i*10 % N == 0: print(loss.item())\n",
    "    disc.zero_grad()\n",
    "    loss.backward()\n",
    "    with torch.no_grad():\n",
    "        for param in disc.parameters():\n",
    "            param -= lr * param.grad"
   ]
  },
  {
   "cell_type": "markdown",
   "metadata": {},
   "source": [
    "Plot the output probabilities from the trained discriminator: "
   ]
  },
  {
   "cell_type": "code",
   "execution_count": 17,
   "metadata": {},
   "outputs": [
    {
     "data": {
      "text/plain": [
       "[<matplotlib.lines.Line2D at 0x11b2e6940>]"
      ]
     },
     "execution_count": 17,
     "metadata": {},
     "output_type": "execute_result"
    },
    {
     "data": {
      "image/png": "[encoded data removed]",
      "text/plain": [
       "<Figure size 432x288 with 1 Axes>"
      ]
     },
     "metadata": {
      "needs_background": "light"
     },
     "output_type": "display_data"
    }
   ],
   "source": [
    "curv_x = np.arange(-8., 8., 0.1, dtype=np.float32)\n",
    "with torch.no_grad():\n",
    "    disc_y = disc(torch.from_numpy(curv_x).view(-1,1)).numpy()\n",
    "plt.plot(curv_x, disc_y)"
   ]
  },
  {
   "cell_type": "markdown",
   "metadata": {},
   "source": [
    "## WGAN"
   ]
  },
  {
   "cell_type": "markdown",
   "metadata": {},
   "source": [
    "For WGAN, the output of the critic is not necessarily the probability, actually, it can be anything. Same as above, we also use a very simple model for the WGAN critic (just changed the last layer from $\\mathrm{sigmoid}$ to $\\tanh$):"
   ]
  },
  {
   "cell_type": "code",
   "execution_count": 12,
   "metadata": {},
   "outputs": [],
   "source": [
    "crit = torch.nn.Sequential(\n",
    "    torch.nn.Linear(1, 10),\n",
    "    torch.nn.ReLU(),\n",
    "    torch.nn.Linear(10, 1),\n",
    "    torch.nn.Tanh())"
   ]
  },
  {
   "cell_type": "markdown",
   "metadata": {},
   "source": [
    "For WGAN, instead of maximizing the Jensen–Shannon divergence, we maximize the Earth-Mover (EM) distance \\[1\\], which is equivalent to minimizing:\n",
    "$$\n",
    "\\mathbb{E}_{x\\sim\\mathbb{P}_r}[f(x)] - \\mathbb{E}_{x\\sim\\mathbb{P}_\\theta}[f(x)]\n",
    "$$"
   ]
  },
  {
   "cell_type": "markdown",
   "metadata": {},
   "source": [
    "Train the critic to convergence:  "
   ]
  },
  {
   "cell_type": "code",
   "execution_count": 13,
   "metadata": {},
   "outputs": [
    {
     "name": "stdout",
     "output_type": "stream",
     "text": [
      "-0.4577646553516388\n",
      "-0.5747298002243042\n",
      "-0.5712668895721436\n",
      "-0.5769107341766357\n",
      "-0.5647101402282715\n",
      "-0.5770244598388672\n",
      "-0.5889617800712585\n",
      "-0.5850059986114502\n",
      "-0.5951364040374756\n",
      "-0.5723708868026733\n"
     ]
    }
   ],
   "source": [
    "lr = 1e-1\n",
    "bs = 64\n",
    "N = 1500\n",
    "for i in range(N):\n",
    "    real = torch.randn([bs,1]) - 5\n",
    "    fake = torch.randn([bs,1]) + 5    \n",
    "    loss = crit(real).mean() - crit(fake).mean()\n",
    "    if i*10 % N == 0: print(loss.item())\n",
    "    crit.zero_grad()\n",
    "    loss.backward()\n",
    "    with torch.no_grad():\n",
    "        for param in crit.parameters():\n",
    "            param -= lr * param.grad\n",
    "            param.data.clamp_(-0.1, 0.1)"
   ]
  },
  {
   "cell_type": "markdown",
   "metadata": {},
   "source": [
    "Note after updating the weights, we clipped them to \\[-0.1, 0.1\\]. This is to make sure that the critic is _K_-Lipschitz \\[1\\].\n",
    "\n",
    "Now we plot the outputs from the trained critic:"
   ]
  },
  {
   "cell_type": "code",
   "execution_count": 14,
   "metadata": {},
   "outputs": [
    {
     "data": {
      "text/plain": [
       "[<matplotlib.lines.Line2D at 0x11b13b550>]"
      ]
     },
     "execution_count": 14,
     "metadata": {},
     "output_type": "execute_result"
    },
    {
     "data": {
      "image/png": "[encoded data removed]",
      "text/plain": [
       "<Figure size 432x288 with 1 Axes>"
      ]
     },
     "metadata": {
      "needs_background": "light"
     },
     "output_type": "display_data"
    }
   ],
   "source": [
    "with torch.no_grad():\n",
    "    crit_y = crit(torch.from_numpy(curv_x).view(-1,1)).numpy()\n",
    "plt.plot(curv_x, crit_y)"
   ]
  },
  {
   "cell_type": "markdown",
   "metadata": {},
   "source": [
    "## Put it together"
   ]
  },
  {
   "cell_type": "markdown",
   "metadata": {},
   "source": [
    "We have trained the GAN discriminator and the WGAN critic, now we put all results into a single plot:"
   ]
  },
  {
   "cell_type": "code",
   "execution_count": 18,
   "metadata": {
    "scrolled": true
   },
   "outputs": [
    {
     "data": {
      "text/plain": [
       "<matplotlib.legend.Legend at 0x11b410e48>"
      ]
     },
     "execution_count": 18,
     "metadata": {},
     "output_type": "execute_result"
    },
    {
     "data": {
      "image/png": "[encoded data removed]",
      "text/plain": [
       "<Figure size 432x288 with 1 Axes>"
      ]
     },
     "metadata": {
      "needs_background": "light"
     },
     "output_type": "display_data"
    }
   ],
   "source": [
    "real_x = np.random.randn(50) - 5\n",
    "real_y = np.random.randn(50)/100\n",
    "\n",
    "fake_x = np.random.randn(50) + 5\n",
    "fake_y = np.random.randn(50)/100\n",
    "\n",
    "real_curv_y = np.exp(-np.power(curv_x + 5, 2)/2)/np.sqrt(2*np.pi)\n",
    "fake_curv_y = np.exp(-np.power(curv_x - 5, 2)/2)/np.sqrt(2*np.pi)\n",
    "\n",
    "plt.plot(real_x, real_y, '.b', markersize=3)\n",
    "plt.plot(curv_x, real_curv_y, '-b', linewidth=1, label='Density of real')\n",
    "\n",
    "plt.plot(fake_x, fake_y, '.g', markersize=3)\n",
    "plt.plot(curv_x, fake_curv_y, '-g', linewidth=1, label='Density of fake')\n",
    "\n",
    "plt.plot(curv_x, disc_y, '-r', linewidth=1, label='GAN Discriminator')\n",
    "plt.plot(curv_x, crit_y, '-c', linewidth=1, label='WGAN Critic')\n",
    "plt.legend()"
   ]
  },
  {
   "cell_type": "markdown",
   "metadata": {},
   "source": [
    "It's almost identical to Figure 2 of Ref. \\[1\\]. We have replicated it with the most basic models. "
   ]
  },
  {
   "cell_type": "markdown",
   "metadata": {},
   "source": [
    "## References:\n",
    " \n",
    "\\[1\\] Martin Arjovsky, Soumith Chintala, and Leon Bottou (2017). Wasserstein GAN ( https://arXiv:1701.07875 ).\n",
    "\n",
    "\\[2\\] Ian J. Goodfellow, Jean Pouget-Abadie, Mehdi Mirza, Bing Xu, David Warde-Farley, Sherjil Ozair, Aaron Courville, and Yoshua Bengio (2014). Generative adversarial nets. In _Advances in Neural Information Processing Systems 27_, pages 2672–2680. Curran Associates, Inc."
   ]
  }
 ],
 "metadata": {
  "kernelspec": {
   "display_name": "Python 3",
   "language": "python",
   "name": "python3"
  },
  "language_info": {
   "codemirror_mode": {
    "name": "ipython",
    "version": 3
   },
   "file_extension": ".py",
   "mimetype": "text/x-python",
   "name": "python",
   "nbconvert_exporter": "python",
   "pygments_lexer": "ipython3",
   "version": "3.7.1"
  }
 },
 "nbformat": 4,
 "nbformat_minor": 2
}
