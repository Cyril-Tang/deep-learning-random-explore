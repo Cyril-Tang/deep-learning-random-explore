{
 "cells": [
  {
   "cell_type": "code",
   "execution_count": 1,
   "metadata": {},
   "outputs": [],
   "source": [
    "from fastai.vision import *\n",
    "from utils import *"
   ]
  },
  {
   "cell_type": "code",
   "execution_count": null,
   "metadata": {},
   "outputs": [],
   "source": []
  },
  {
   "cell_type": "markdown",
   "metadata": {},
   "source": [
    "When \"pretrainedmodels\" is not installed: "
   ]
  },
  {
   "cell_type": "code",
   "execution_count": 1,
   "metadata": {},
   "outputs": [
    {
     "name": "stdout",
     "output_type": "stream",
     "text": [
      "Error: you must install library \"pretrainedmodels\" to use the model. Try:\n",
      "> pip install pretrainedmodels \n",
      "\n"
     ]
    },
    {
     "ename": "AttributeError",
     "evalue": "module 'pretrainedmodels' has no attribute 'inceptionv4'",
     "output_type": "error",
     "traceback": [
      "\u001b[1;31m---------------------------------------------------------------------------\u001b[0m",
      "\u001b[1;31mAttributeError\u001b[0m                            Traceback (most recent call last)",
      "\u001b[1;32m<ipython-input-1-e53950954be5>\u001b[0m in \u001b[0;36m<module>\u001b[1;34m\u001b[0m\n\u001b[1;32m----> 1\u001b[1;33m \u001b[1;32mfrom\u001b[0m \u001b[0mfastai\u001b[0m\u001b[1;33m.\u001b[0m\u001b[0mvision\u001b[0m\u001b[1;33m.\u001b[0m\u001b[0mmodels\u001b[0m\u001b[1;33m.\u001b[0m\u001b[0mcadene_models\u001b[0m \u001b[1;32mimport\u001b[0m \u001b[0minceptionv4\u001b[0m\u001b[1;33m\u001b[0m\u001b[1;33m\u001b[0m\u001b[0m\n\u001b[0m",
      "\u001b[1;32mc:\\users\\wangpei\\documents\\github\\fastai\\fastai\\vision\\models\\cadene_models.py\u001b[0m in \u001b[0;36m<module>\u001b[1;34m\u001b[0m\n\u001b[0;32m      1\u001b[0m \u001b[1;32mtry\u001b[0m\u001b[1;33m:\u001b[0m\u001b[1;33m\u001b[0m\u001b[1;33m\u001b[0m\u001b[0m\n\u001b[0;32m      2\u001b[0m     \u001b[1;32mimport\u001b[0m \u001b[0mpretrainedmodels\u001b[0m\u001b[1;33m\u001b[0m\u001b[1;33m\u001b[0m\u001b[0m\n\u001b[1;32m----> 3\u001b[1;33m     \u001b[0m_\u001b[0m \u001b[1;33m=\u001b[0m \u001b[0mpretrainedmodels\u001b[0m\u001b[1;33m.\u001b[0m\u001b[0minceptionv4\u001b[0m\u001b[1;33m\u001b[0m\u001b[1;33m\u001b[0m\u001b[0m\n\u001b[0m\u001b[0;32m      4\u001b[0m \u001b[1;32mexcept\u001b[0m \u001b[1;33m(\u001b[0m\u001b[0mImportError\u001b[0m\u001b[1;33m,\u001b[0m \u001b[0mAttributeError\u001b[0m\u001b[1;33m)\u001b[0m \u001b[1;32mas\u001b[0m \u001b[0me\u001b[0m\u001b[1;33m:\u001b[0m\u001b[1;33m\u001b[0m\u001b[1;33m\u001b[0m\u001b[0m\n\u001b[0;32m      5\u001b[0m     print('Error: you must install library \\\"pretrainedmodels\\\" to use the model. Try:\\n' + \n",
      "\u001b[1;31mAttributeError\u001b[0m: module 'pretrainedmodels' has no attribute 'inceptionv4'"
     ]
    }
   ],
   "source": [
    "from fastai.vision.models.cadene_models import inceptionv4"
   ]
  },
  {
   "cell_type": "code",
   "execution_count": null,
   "metadata": {},
   "outputs": [],
   "source": []
  },
  {
   "cell_type": "code",
   "execution_count": 2,
   "metadata": {},
   "outputs": [
    {
     "ename": "NameError",
     "evalue": "name 'inceptionv4' is not defined",
     "output_type": "error",
     "traceback": [
      "\u001b[1;31m---------------------------------------------------------------------------\u001b[0m",
      "\u001b[1;31mNameError\u001b[0m                                 Traceback (most recent call last)",
      "\u001b[1;32m<ipython-input-2-6ba9810e11f3>\u001b[0m in \u001b[0;36m<module>\u001b[1;34m\u001b[0m\n\u001b[1;32m----> 1\u001b[1;33m \u001b[0minceptionv4\u001b[0m\u001b[1;33m\u001b[0m\u001b[1;33m\u001b[0m\u001b[0m\n\u001b[0m",
      "\u001b[1;31mNameError\u001b[0m: name 'inceptionv4' is not defined"
     ]
    }
   ],
   "source": [
    "inceptionv4"
   ]
  },
  {
   "cell_type": "code",
   "execution_count": 4,
   "metadata": {},
   "outputs": [],
   "source": [
    "from fastai.vision.models.cadene_models import inceptionv4"
   ]
  },
  {
   "cell_type": "code",
   "execution_count": 5,
   "metadata": {
    "scrolled": true
   },
   "outputs": [
    {
     "name": "stdout",
     "output_type": "stream",
     "text": [
      "(0) BasicConv2d : 3   layers (total: 3)\n",
      "(1) BasicConv2d : 3   layers (total: 6)\n",
      "(2) BasicConv2d : 3   layers (total: 9)\n",
      "(3) Mixed_3a    : 4   layers (total: 13)\n",
      "(4) Mixed_4a    : 18  layers (total: 31)\n",
      "(5) Mixed_5a    : 4   layers (total: 35)\n",
      "(6) Inception_A : 22  layers (total: 57)\n",
      "(7) Inception_A : 22  layers (total: 79)\n",
      "(8) Inception_A : 22  layers (total: 101)\n",
      "(9) Inception_A : 22  layers (total: 123)\n",
      "(10) Reduction_A : 13  layers (total: 136)\n",
      "(11) Inception_B : 31  layers (total: 167)\n",
      "(12) Inception_B : 31  layers (total: 198)\n",
      "(13) Inception_B : 31  layers (total: 229)\n",
      "(14) Inception_B : 31  layers (total: 260)\n",
      "(15) Inception_B : 31  layers (total: 291)\n",
      "(16) Inception_B : 31  layers (total: 322)\n",
      "(17) Inception_B : 31  layers (total: 353)\n",
      "(18) Reduction_B : 19  layers (total: 372)\n",
      "(19) Inception_C : 31  layers (total: 403)\n",
      "(20) Inception_C : 31  layers (total: 434)\n",
      "(21) Inception_C : 31  layers (total: 465)\n",
      "(22) AvgPool2d   : 1   layers (total: 466)\n",
      "(23) Linear      : 1   layers (total: 467)\n"
     ]
    }
   ],
   "source": [
    "arch_summary(inceptionv4)"
   ]
  },
  {
   "cell_type": "code",
   "execution_count": 8,
   "metadata": {},
   "outputs": [],
   "source": [
    "learn = create_cnn(FakeData(), inceptionv4, pretrained=True)"
   ]
  },
  {
   "cell_type": "code",
   "execution_count": 9,
   "metadata": {},
   "outputs": [
    {
     "name": "stdout",
     "output_type": "stream",
     "text": [
      "Group 1: ['BasicConv2d', 'BasicConv2d', 'BasicConv2d', 'Mixed_3a', 'Mixed_4a', 'Mixed_5a', 'Inception_A', 'Inception_A', 'Inception_A', 'Inception_A', 'Reduction_A']\n",
      "Group 2: ['Inception_B', 'Inception_B', 'Inception_B', 'Inception_B', 'Inception_B', 'Inception_B', 'Inception_B', 'Reduction_B', 'Inception_C', 'Inception_C', 'Inception_C']\n",
      "Group 3: ['AdaptiveConcatPool2d', 'Flatten', 'BatchNorm1d', 'Dropout', 'Linear', 'ReLU', 'BatchNorm1d', 'Dropout', 'Linear']\n"
     ]
    }
   ],
   "source": [
    "get_groups(nn.Sequential(*learn.model[0], *learn.model[1]), learn.layer_groups)"
   ]
  },
  {
   "cell_type": "code",
   "execution_count": 10,
   "metadata": {},
   "outputs": [
    {
     "name": "stdout",
     "output_type": "stream",
     "text": [
      "tensor([[ 0.1859, -0.1454]])\n"
     ]
    }
   ],
   "source": [
    "with torch.no_grad():\n",
    "    learn.model.eval()\n",
    "    print(learn.model(torch.randn(1,3,96,96)))"
   ]
  },
  {
   "cell_type": "code",
   "execution_count": null,
   "metadata": {},
   "outputs": [],
   "source": []
  },
  {
   "cell_type": "code",
   "execution_count": 11,
   "metadata": {},
   "outputs": [
    {
     "ename": "NameError",
     "evalue": "name 'inceptionresnetv2' is not defined",
     "output_type": "error",
     "traceback": [
      "\u001b[1;31m---------------------------------------------------------------------------\u001b[0m",
      "\u001b[1;31mNameError\u001b[0m                                 Traceback (most recent call last)",
      "\u001b[1;32m<ipython-input-11-3806b4b92125>\u001b[0m in \u001b[0;36m<module>\u001b[1;34m\u001b[0m\n\u001b[1;32m----> 1\u001b[1;33m \u001b[0minceptionresnetv2\u001b[0m\u001b[1;33m\u001b[0m\u001b[1;33m\u001b[0m\u001b[0m\n\u001b[0m",
      "\u001b[1;31mNameError\u001b[0m: name 'inceptionresnetv2' is not defined"
     ]
    }
   ],
   "source": [
    "inceptionresnetv2"
   ]
  },
  {
   "cell_type": "code",
   "execution_count": 12,
   "metadata": {},
   "outputs": [],
   "source": [
    "from fastai.vision.models.cadene_models import inceptionresnetv2"
   ]
  },
  {
   "cell_type": "code",
   "execution_count": 13,
   "metadata": {
    "scrolled": true
   },
   "outputs": [
    {
     "name": "stdout",
     "output_type": "stream",
     "text": [
      "(0) BasicConv2d : 3   layers (total: 3)\n",
      "(1) BasicConv2d : 3   layers (total: 6)\n",
      "(2) BasicConv2d : 3   layers (total: 9)\n",
      "(3) MaxPool2d   : 1   layers (total: 10)\n",
      "(4) BasicConv2d : 3   layers (total: 13)\n",
      "(5) BasicConv2d : 3   layers (total: 16)\n",
      "(6) MaxPool2d   : 1   layers (total: 17)\n",
      "(7) Mixed_5b    : 22  layers (total: 39)\n",
      "(8) Sequential  : 200 layers (total: 239)\n",
      "(9) Mixed_6a    : 13  layers (total: 252)\n",
      "(10) Sequential  : 280 layers (total: 532)\n",
      "(11) Mixed_7a    : 22  layers (total: 554)\n",
      "(12) Sequential  : 126 layers (total: 680)\n",
      "(13) Block8      : 13  layers (total: 693)\n",
      "(14) BasicConv2d : 3   layers (total: 696)\n",
      "(15) AvgPool2d   : 1   layers (total: 697)\n",
      "(16) Linear      : 1   layers (total: 698)\n"
     ]
    }
   ],
   "source": [
    "arch_summary(inceptionresnetv2)"
   ]
  },
  {
   "cell_type": "code",
   "execution_count": 14,
   "metadata": {},
   "outputs": [],
   "source": [
    "learn = create_cnn(FakeData(), inceptionresnetv2, pretrained=True)"
   ]
  },
  {
   "cell_type": "code",
   "execution_count": 15,
   "metadata": {},
   "outputs": [
    {
     "name": "stdout",
     "output_type": "stream",
     "text": [
      "Group 1: ['BasicConv2d', 'BasicConv2d', 'BasicConv2d', 'MaxPool2d', 'BasicConv2d', 'BasicConv2d', 'MaxPool2d', 'Mixed_5b', 'Sequential']\n",
      "Group 2: ['Mixed_6a', 'Sequential', 'Mixed_7a', 'Sequential', 'Block8', 'BasicConv2d']\n",
      "Group 3: ['AdaptiveConcatPool2d', 'Flatten', 'BatchNorm1d', 'Dropout', 'Linear', 'ReLU', 'BatchNorm1d', 'Dropout', 'Linear']\n"
     ]
    }
   ],
   "source": [
    "get_groups(nn.Sequential(*learn.model[0], *learn.model[1]), learn.layer_groups)"
   ]
  },
  {
   "cell_type": "code",
   "execution_count": 16,
   "metadata": {},
   "outputs": [
    {
     "name": "stdout",
     "output_type": "stream",
     "text": [
      "tensor([[-0.1458,  0.0967]])\n"
     ]
    }
   ],
   "source": [
    "with torch.no_grad():\n",
    "    learn.model.eval()\n",
    "    print(learn.model(torch.randn(1,3,96,96)))"
   ]
  },
  {
   "cell_type": "code",
   "execution_count": null,
   "metadata": {},
   "outputs": [],
   "source": []
  },
  {
   "cell_type": "code",
   "execution_count": 17,
   "metadata": {},
   "outputs": [
    {
     "ename": "NameError",
     "evalue": "name 'nasnetamobile' is not defined",
     "output_type": "error",
     "traceback": [
      "\u001b[1;31m---------------------------------------------------------------------------\u001b[0m",
      "\u001b[1;31mNameError\u001b[0m                                 Traceback (most recent call last)",
      "\u001b[1;32m<ipython-input-17-fcbc8d60d9ee>\u001b[0m in \u001b[0;36m<module>\u001b[1;34m\u001b[0m\n\u001b[1;32m----> 1\u001b[1;33m \u001b[0mnasnetamobile\u001b[0m\u001b[1;33m\u001b[0m\u001b[1;33m\u001b[0m\u001b[0m\n\u001b[0m",
      "\u001b[1;31mNameError\u001b[0m: name 'nasnetamobile' is not defined"
     ]
    }
   ],
   "source": [
    "nasnetamobile"
   ]
  },
  {
   "cell_type": "code",
   "execution_count": 18,
   "metadata": {},
   "outputs": [],
   "source": [
    "from fastai.vision.models.cadene_models import nasnetamobile"
   ]
  },
  {
   "cell_type": "code",
   "execution_count": 19,
   "metadata": {},
   "outputs": [
    {
     "name": "stdout",
     "output_type": "stream",
     "text": [
      "(0) NASNetAMobile: 821 layers (total: 821)\n"
     ]
    }
   ],
   "source": [
    "arch_summary(nasnetamobile)"
   ]
  },
  {
   "cell_type": "code",
   "execution_count": 20,
   "metadata": {},
   "outputs": [],
   "source": [
    "learn = create_cnn(FakeData(), nasnetamobile, pretrained=True)"
   ]
  },
  {
   "cell_type": "code",
   "execution_count": 21,
   "metadata": {},
   "outputs": [
    {
     "name": "stdout",
     "output_type": "stream",
     "text": [
      "Group 1: ['Sequential', 'CellStem0', 'CellStem1', 'FirstCell', 'NormalCell', 'NormalCell', 'NormalCell', 'ReductionCell0']\n",
      "Group 2: ['FirstCell', 'NormalCell', 'NormalCell', 'NormalCell', 'ReductionCell1', 'FirstCell', 'NormalCell', 'NormalCell', 'NormalCell', 'ReLU', 'AvgPool2d', 'Dropout', 'Linear']\n",
      "Group 3: ['AdaptiveConcatPool2d', 'Flatten', 'BatchNorm1d', 'Dropout', 'Linear', 'ReLU', 'BatchNorm1d', 'Dropout', 'Linear']\n"
     ]
    }
   ],
   "source": [
    "get_groups(nn.Sequential(*learn.model[0][0].children(), *learn.model[1]), learn.layer_groups)"
   ]
  },
  {
   "cell_type": "code",
   "execution_count": 22,
   "metadata": {},
   "outputs": [
    {
     "name": "stdout",
     "output_type": "stream",
     "text": [
      "tensor([[ 0.6252, -1.9816]])\n"
     ]
    }
   ],
   "source": [
    "with torch.no_grad():\n",
    "    learn.model.eval()\n",
    "    print(learn.model(torch.randn(1,3,96,96)))"
   ]
  },
  {
   "cell_type": "code",
   "execution_count": null,
   "metadata": {},
   "outputs": [],
   "source": []
  },
  {
   "cell_type": "code",
   "execution_count": 3,
   "metadata": {},
   "outputs": [
    {
     "ename": "NameError",
     "evalue": "name 'dpn92' is not defined",
     "output_type": "error",
     "traceback": [
      "\u001b[1;31m---------------------------------------------------------------------------\u001b[0m",
      "\u001b[1;31mNameError\u001b[0m                                 Traceback (most recent call last)",
      "\u001b[1;32m<ipython-input-3-c81e95113506>\u001b[0m in \u001b[0;36m<module>\u001b[1;34m\u001b[0m\n\u001b[1;32m----> 1\u001b[1;33m \u001b[0mdpn92\u001b[0m\u001b[1;33m\u001b[0m\u001b[1;33m\u001b[0m\u001b[0m\n\u001b[0m",
      "\u001b[1;31mNameError\u001b[0m: name 'dpn92' is not defined"
     ]
    }
   ],
   "source": [
    "dpn92"
   ]
  },
  {
   "cell_type": "code",
   "execution_count": 4,
   "metadata": {},
   "outputs": [],
   "source": [
    "from fastai.vision.models.cadene_models import dpn92"
   ]
  },
  {
   "cell_type": "code",
   "execution_count": 5,
   "metadata": {},
   "outputs": [
    {
     "name": "stdout",
     "output_type": "stream",
     "text": [
      "(0) Sequential  : 288 layers (total: 288)\n",
      "(1) Conv2d      : 1   layers (total: 289)\n"
     ]
    }
   ],
   "source": [
    "arch_summary(dpn92)"
   ]
  },
  {
   "cell_type": "code",
   "execution_count": 6,
   "metadata": {},
   "outputs": [],
   "source": [
    "learn = create_cnn(FakeData(), dpn92, pretrained=True)"
   ]
  },
  {
   "cell_type": "code",
   "execution_count": 7,
   "metadata": {},
   "outputs": [
    {
     "name": "stdout",
     "output_type": "stream",
     "text": [
      "Group 1: ['InputBlock', 'DualPathBlock', 'DualPathBlock', 'DualPathBlock', 'DualPathBlock', 'DualPathBlock', 'DualPathBlock', 'DualPathBlock', 'DualPathBlock', 'DualPathBlock', 'DualPathBlock', 'DualPathBlock', 'DualPathBlock', 'DualPathBlock', 'DualPathBlock', 'DualPathBlock']\n",
      "Group 2: ['DualPathBlock', 'DualPathBlock', 'DualPathBlock', 'DualPathBlock', 'DualPathBlock', 'DualPathBlock', 'DualPathBlock', 'DualPathBlock', 'DualPathBlock', 'DualPathBlock', 'DualPathBlock', 'DualPathBlock', 'DualPathBlock', 'DualPathBlock', 'DualPathBlock', 'CatBnAct']\n",
      "Group 3: ['AdaptiveConcatPool2d', 'Flatten', 'BatchNorm1d', 'Dropout', 'Linear', 'ReLU', 'BatchNorm1d', 'Dropout', 'Linear']\n"
     ]
    }
   ],
   "source": [
    "get_groups(nn.Sequential(*learn.model[0][0], *learn.model[1]), learn.layer_groups)"
   ]
  },
  {
   "cell_type": "code",
   "execution_count": 8,
   "metadata": {},
   "outputs": [
    {
     "name": "stdout",
     "output_type": "stream",
     "text": [
      "tensor([[-0.2164,  0.4982]])\n"
     ]
    }
   ],
   "source": [
    "with torch.no_grad():\n",
    "    learn.model.eval()\n",
    "    print(learn.model(torch.randn(1,3,96,96)))"
   ]
  },
  {
   "cell_type": "code",
   "execution_count": null,
   "metadata": {},
   "outputs": [],
   "source": []
  },
  {
   "cell_type": "code",
   "execution_count": 9,
   "metadata": {},
   "outputs": [
    {
     "ename": "NameError",
     "evalue": "name 'xception_cadene' is not defined",
     "output_type": "error",
     "traceback": [
      "\u001b[1;31m---------------------------------------------------------------------------\u001b[0m",
      "\u001b[1;31mNameError\u001b[0m                                 Traceback (most recent call last)",
      "\u001b[1;32m<ipython-input-9-3186995d351e>\u001b[0m in \u001b[0;36m<module>\u001b[1;34m\u001b[0m\n\u001b[1;32m----> 1\u001b[1;33m \u001b[0mxception_cadene\u001b[0m\u001b[1;33m\u001b[0m\u001b[1;33m\u001b[0m\u001b[0m\n\u001b[0m",
      "\u001b[1;31mNameError\u001b[0m: name 'xception_cadene' is not defined"
     ]
    }
   ],
   "source": [
    "xception_cadene"
   ]
  },
  {
   "cell_type": "code",
   "execution_count": 10,
   "metadata": {},
   "outputs": [],
   "source": [
    "from fastai.vision.models.cadene_models import xception_cadene"
   ]
  },
  {
   "cell_type": "code",
   "execution_count": 11,
   "metadata": {
    "scrolled": true
   },
   "outputs": [
    {
     "name": "stdout",
     "output_type": "stream",
     "text": [
      "(0) Conv2d      : 1   layers (total: 1)\n",
      "(1) BatchNorm2d : 1   layers (total: 2)\n",
      "(2) ReLU        : 1   layers (total: 3)\n",
      "(3) Conv2d      : 1   layers (total: 4)\n",
      "(4) BatchNorm2d : 1   layers (total: 5)\n",
      "(5) Block       : 11  layers (total: 16)\n",
      "(6) Block       : 12  layers (total: 28)\n",
      "(7) Block       : 12  layers (total: 40)\n",
      "(8) Block       : 12  layers (total: 52)\n",
      "(9) Block       : 12  layers (total: 64)\n",
      "(10) Block       : 12  layers (total: 76)\n",
      "(11) Block       : 12  layers (total: 88)\n",
      "(12) Block       : 12  layers (total: 100)\n",
      "(13) Block       : 12  layers (total: 112)\n",
      "(14) Block       : 12  layers (total: 124)\n",
      "(15) Block       : 12  layers (total: 136)\n",
      "(16) Block       : 12  layers (total: 148)\n",
      "(17) SeparableConv2d: 2   layers (total: 150)\n",
      "(18) BatchNorm2d : 1   layers (total: 151)\n",
      "(19) SeparableConv2d: 2   layers (total: 153)\n",
      "(20) BatchNorm2d : 1   layers (total: 154)\n",
      "(21) Linear      : 1   layers (total: 155)\n"
     ]
    }
   ],
   "source": [
    "arch_summary(xception_cadene)"
   ]
  },
  {
   "cell_type": "code",
   "execution_count": 12,
   "metadata": {},
   "outputs": [],
   "source": [
    "learn = create_cnn(FakeData(), xception_cadene, pretrained=True)"
   ]
  },
  {
   "cell_type": "code",
   "execution_count": 13,
   "metadata": {},
   "outputs": [
    {
     "name": "stdout",
     "output_type": "stream",
     "text": [
      "Group 1: ['Conv2d', 'BatchNorm2d', 'ReLU', 'Conv2d', 'BatchNorm2d', 'Block', 'Block', 'Block', 'Block', 'Block', 'Block']\n",
      "Group 2: ['Block', 'Block', 'Block', 'Block', 'Block', 'Block', 'SeparableConv2d', 'BatchNorm2d', 'SeparableConv2d', 'BatchNorm2d']\n",
      "Group 3: ['AdaptiveConcatPool2d', 'Flatten', 'BatchNorm1d', 'Dropout', 'Linear', 'ReLU', 'BatchNorm1d', 'Dropout', 'Linear']\n"
     ]
    }
   ],
   "source": [
    "get_groups(nn.Sequential(*learn.model[0], *learn.model[1]), learn.layer_groups)"
   ]
  },
  {
   "cell_type": "code",
   "execution_count": 14,
   "metadata": {},
   "outputs": [
    {
     "name": "stdout",
     "output_type": "stream",
     "text": [
      "tensor([[-25.6765, -20.7952]])\n"
     ]
    }
   ],
   "source": [
    "with torch.no_grad():\n",
    "    learn.model.eval()\n",
    "    print(learn.model(torch.randn(1,3,96,96)))"
   ]
  },
  {
   "cell_type": "code",
   "execution_count": null,
   "metadata": {},
   "outputs": [],
   "source": []
  },
  {
   "cell_type": "code",
   "execution_count": 15,
   "metadata": {},
   "outputs": [
    {
     "ename": "NameError",
     "evalue": "name 'se_resnet50' is not defined",
     "output_type": "error",
     "traceback": [
      "\u001b[1;31m---------------------------------------------------------------------------\u001b[0m",
      "\u001b[1;31mNameError\u001b[0m                                 Traceback (most recent call last)",
      "\u001b[1;32m<ipython-input-15-1a7f28707021>\u001b[0m in \u001b[0;36m<module>\u001b[1;34m\u001b[0m\n\u001b[1;32m----> 1\u001b[1;33m \u001b[0mse_resnet50\u001b[0m\u001b[1;33m\u001b[0m\u001b[1;33m\u001b[0m\u001b[0m\n\u001b[0m",
      "\u001b[1;31mNameError\u001b[0m: name 'se_resnet50' is not defined"
     ]
    }
   ],
   "source": [
    "se_resnet50"
   ]
  },
  {
   "cell_type": "code",
   "execution_count": 16,
   "metadata": {},
   "outputs": [],
   "source": [
    "from fastai.vision.models.cadene_models import se_resnet50"
   ]
  },
  {
   "cell_type": "code",
   "execution_count": 17,
   "metadata": {},
   "outputs": [
    {
     "name": "stdout",
     "output_type": "stream",
     "text": [
      "(0) Sequential  : 4   layers (total: 4)\n",
      "(1) Sequential  : 38  layers (total: 42)\n",
      "(2) Sequential  : 50  layers (total: 92)\n",
      "(3) Sequential  : 74  layers (total: 166)\n",
      "(4) Sequential  : 38  layers (total: 204)\n",
      "(5) AvgPool2d   : 1   layers (total: 205)\n",
      "(6) Linear      : 1   layers (total: 206)\n"
     ]
    }
   ],
   "source": [
    "arch_summary(se_resnet50)"
   ]
  },
  {
   "cell_type": "code",
   "execution_count": 18,
   "metadata": {},
   "outputs": [],
   "source": [
    "learn = create_cnn(FakeData(), se_resnet50, pretrained=True)"
   ]
  },
  {
   "cell_type": "code",
   "execution_count": 19,
   "metadata": {},
   "outputs": [
    {
     "name": "stdout",
     "output_type": "stream",
     "text": [
      "Group 1: ['Sequential', 'Sequential', 'Sequential']\n",
      "Group 2: ['Sequential', 'Sequential']\n",
      "Group 3: ['AdaptiveConcatPool2d', 'Flatten', 'BatchNorm1d', 'Dropout', 'Linear', 'ReLU', 'BatchNorm1d', 'Dropout', 'Linear']\n"
     ]
    }
   ],
   "source": [
    "get_groups(nn.Sequential(*learn.model[0], *learn.model[1]), learn.layer_groups)"
   ]
  },
  {
   "cell_type": "code",
   "execution_count": 20,
   "metadata": {},
   "outputs": [
    {
     "name": "stdout",
     "output_type": "stream",
     "text": [
      "tensor([[-0.5033,  0.0851]])\n"
     ]
    }
   ],
   "source": [
    "with torch.no_grad():\n",
    "    learn.model.eval()\n",
    "    print(learn.model(torch.randn(1,3,96,96)))"
   ]
  },
  {
   "cell_type": "code",
   "execution_count": null,
   "metadata": {},
   "outputs": [],
   "source": []
  },
  {
   "cell_type": "code",
   "execution_count": 21,
   "metadata": {},
   "outputs": [
    {
     "ename": "NameError",
     "evalue": "name 'se_resnet101' is not defined",
     "output_type": "error",
     "traceback": [
      "\u001b[1;31m---------------------------------------------------------------------------\u001b[0m",
      "\u001b[1;31mNameError\u001b[0m                                 Traceback (most recent call last)",
      "\u001b[1;32m<ipython-input-21-613d4cd90df4>\u001b[0m in \u001b[0;36m<module>\u001b[1;34m\u001b[0m\n\u001b[1;32m----> 1\u001b[1;33m \u001b[0mse_resnet101\u001b[0m\u001b[1;33m\u001b[0m\u001b[1;33m\u001b[0m\u001b[0m\n\u001b[0m",
      "\u001b[1;31mNameError\u001b[0m: name 'se_resnet101' is not defined"
     ]
    }
   ],
   "source": [
    "se_resnet101"
   ]
  },
  {
   "cell_type": "code",
   "execution_count": 22,
   "metadata": {},
   "outputs": [],
   "source": [
    "from fastai.vision.models.cadene_models import se_resnet101"
   ]
  },
  {
   "cell_type": "code",
   "execution_count": 23,
   "metadata": {},
   "outputs": [
    {
     "name": "stdout",
     "output_type": "stream",
     "text": [
      "(0) Sequential  : 4   layers (total: 4)\n",
      "(1) Sequential  : 38  layers (total: 42)\n",
      "(2) Sequential  : 50  layers (total: 92)\n",
      "(3) Sequential  : 278 layers (total: 370)\n",
      "(4) Sequential  : 38  layers (total: 408)\n",
      "(5) AvgPool2d   : 1   layers (total: 409)\n",
      "(6) Linear      : 1   layers (total: 410)\n"
     ]
    }
   ],
   "source": [
    "arch_summary(se_resnet101)"
   ]
  },
  {
   "cell_type": "code",
   "execution_count": 24,
   "metadata": {},
   "outputs": [],
   "source": [
    "learn = create_cnn(FakeData(), se_resnet101, pretrained=True)"
   ]
  },
  {
   "cell_type": "code",
   "execution_count": 25,
   "metadata": {},
   "outputs": [
    {
     "name": "stdout",
     "output_type": "stream",
     "text": [
      "Group 1: ['Sequential', 'Sequential', 'Sequential']\n",
      "Group 2: ['Sequential', 'Sequential']\n",
      "Group 3: ['AdaptiveConcatPool2d', 'Flatten', 'BatchNorm1d', 'Dropout', 'Linear', 'ReLU', 'BatchNorm1d', 'Dropout', 'Linear']\n"
     ]
    }
   ],
   "source": [
    "get_groups(nn.Sequential(*learn.model[0], *learn.model[1]), learn.layer_groups)"
   ]
  },
  {
   "cell_type": "code",
   "execution_count": 26,
   "metadata": {},
   "outputs": [
    {
     "name": "stdout",
     "output_type": "stream",
     "text": [
      "tensor([[-0.3413,  0.4957]])\n"
     ]
    }
   ],
   "source": [
    "with torch.no_grad():\n",
    "    learn.model.eval()\n",
    "    print(learn.model(torch.randn(1,3,96,96)))"
   ]
  },
  {
   "cell_type": "code",
   "execution_count": null,
   "metadata": {},
   "outputs": [],
   "source": []
  },
  {
   "cell_type": "code",
   "execution_count": 27,
   "metadata": {},
   "outputs": [
    {
     "ename": "NameError",
     "evalue": "name 'se_resnext50_32x4d' is not defined",
     "output_type": "error",
     "traceback": [
      "\u001b[1;31m---------------------------------------------------------------------------\u001b[0m",
      "\u001b[1;31mNameError\u001b[0m                                 Traceback (most recent call last)",
      "\u001b[1;32m<ipython-input-27-7926afe65417>\u001b[0m in \u001b[0;36m<module>\u001b[1;34m\u001b[0m\n\u001b[1;32m----> 1\u001b[1;33m \u001b[0mse_resnext50_32x4d\u001b[0m\u001b[1;33m\u001b[0m\u001b[1;33m\u001b[0m\u001b[0m\n\u001b[0m",
      "\u001b[1;31mNameError\u001b[0m: name 'se_resnext50_32x4d' is not defined"
     ]
    }
   ],
   "source": [
    "se_resnext50_32x4d"
   ]
  },
  {
   "cell_type": "code",
   "execution_count": 28,
   "metadata": {},
   "outputs": [],
   "source": [
    "from fastai.vision.models.cadene_models import se_resnext50_32x4d"
   ]
  },
  {
   "cell_type": "code",
   "execution_count": 29,
   "metadata": {},
   "outputs": [
    {
     "name": "stdout",
     "output_type": "stream",
     "text": [
      "(0) Sequential  : 4   layers (total: 4)\n",
      "(1) Sequential  : 38  layers (total: 42)\n",
      "(2) Sequential  : 50  layers (total: 92)\n",
      "(3) Sequential  : 74  layers (total: 166)\n",
      "(4) Sequential  : 38  layers (total: 204)\n",
      "(5) AvgPool2d   : 1   layers (total: 205)\n",
      "(6) Linear      : 1   layers (total: 206)\n"
     ]
    }
   ],
   "source": [
    "arch_summary(se_resnext50_32x4d)"
   ]
  },
  {
   "cell_type": "code",
   "execution_count": 30,
   "metadata": {},
   "outputs": [],
   "source": [
    "learn = create_cnn(FakeData(), se_resnext50_32x4d, pretrained=True)"
   ]
  },
  {
   "cell_type": "code",
   "execution_count": 31,
   "metadata": {},
   "outputs": [
    {
     "name": "stdout",
     "output_type": "stream",
     "text": [
      "Group 1: ['Sequential', 'Sequential', 'Sequential']\n",
      "Group 2: ['Sequential', 'Sequential']\n",
      "Group 3: ['AdaptiveConcatPool2d', 'Flatten', 'BatchNorm1d', 'Dropout', 'Linear', 'ReLU', 'BatchNorm1d', 'Dropout', 'Linear']\n"
     ]
    }
   ],
   "source": [
    "get_groups(nn.Sequential(*learn.model[0], *learn.model[1]), learn.layer_groups)"
   ]
  },
  {
   "cell_type": "code",
   "execution_count": 32,
   "metadata": {},
   "outputs": [
    {
     "name": "stdout",
     "output_type": "stream",
     "text": [
      "tensor([[0.5007, 0.1035]])\n"
     ]
    }
   ],
   "source": [
    "with torch.no_grad():\n",
    "    learn.model.eval()\n",
    "    print(learn.model(torch.randn(1,3,96,96)))"
   ]
  },
  {
   "cell_type": "code",
   "execution_count": null,
   "metadata": {},
   "outputs": [],
   "source": []
  },
  {
   "cell_type": "code",
   "execution_count": 33,
   "metadata": {},
   "outputs": [
    {
     "ename": "NameError",
     "evalue": "name 'senet154' is not defined",
     "output_type": "error",
     "traceback": [
      "\u001b[1;31m---------------------------------------------------------------------------\u001b[0m",
      "\u001b[1;31mNameError\u001b[0m                                 Traceback (most recent call last)",
      "\u001b[1;32m<ipython-input-33-b0cf7635a942>\u001b[0m in \u001b[0;36m<module>\u001b[1;34m\u001b[0m\n\u001b[1;32m----> 1\u001b[1;33m \u001b[0msenet154\u001b[0m\u001b[1;33m\u001b[0m\u001b[1;33m\u001b[0m\u001b[0m\n\u001b[0m",
      "\u001b[1;31mNameError\u001b[0m: name 'senet154' is not defined"
     ]
    }
   ],
   "source": [
    "senet154"
   ]
  },
  {
   "cell_type": "code",
   "execution_count": 34,
   "metadata": {},
   "outputs": [],
   "source": [
    "from fastai.vision.models.cadene_models import senet154"
   ]
  },
  {
   "cell_type": "code",
   "execution_count": 35,
   "metadata": {},
   "outputs": [
    {
     "name": "stdout",
     "output_type": "stream",
     "text": [
      "(0) Sequential  : 10  layers (total: 10)\n",
      "(1) Sequential  : 38  layers (total: 48)\n",
      "(2) Sequential  : 98  layers (total: 146)\n",
      "(3) Sequential  : 434 layers (total: 580)\n",
      "(4) Sequential  : 38  layers (total: 618)\n",
      "(5) AvgPool2d   : 1   layers (total: 619)\n",
      "(6) Dropout     : 1   layers (total: 620)\n",
      "(7) Linear      : 1   layers (total: 621)\n"
     ]
    }
   ],
   "source": [
    "arch_summary(senet154)"
   ]
  },
  {
   "cell_type": "code",
   "execution_count": 36,
   "metadata": {},
   "outputs": [],
   "source": [
    "learn = create_cnn(FakeData(), senet154, pretrained=True)"
   ]
  },
  {
   "cell_type": "code",
   "execution_count": 37,
   "metadata": {},
   "outputs": [
    {
     "name": "stdout",
     "output_type": "stream",
     "text": [
      "Group 1: ['Sequential', 'Sequential', 'Sequential']\n",
      "Group 2: ['Sequential', 'Sequential']\n",
      "Group 3: ['AdaptiveConcatPool2d', 'Flatten', 'BatchNorm1d', 'Dropout', 'Linear', 'ReLU', 'BatchNorm1d', 'Dropout', 'Linear']\n"
     ]
    }
   ],
   "source": [
    "get_groups(nn.Sequential(*learn.model[0], *learn.model[1]), learn.layer_groups)"
   ]
  },
  {
   "cell_type": "code",
   "execution_count": 38,
   "metadata": {},
   "outputs": [
    {
     "name": "stdout",
     "output_type": "stream",
     "text": [
      "tensor([[1.4733, 0.6690]])\n"
     ]
    }
   ],
   "source": [
    "with torch.no_grad():\n",
    "    learn.model.eval()\n",
    "    print(learn.model(torch.randn(1,3,96,96)))"
   ]
  },
  {
   "cell_type": "code",
   "execution_count": null,
   "metadata": {},
   "outputs": [],
   "source": []
  },
  {
   "cell_type": "code",
   "execution_count": 39,
   "metadata": {},
   "outputs": [
    {
     "ename": "NameError",
     "evalue": "name 'pnasnet5large' is not defined",
     "output_type": "error",
     "traceback": [
      "\u001b[1;31m---------------------------------------------------------------------------\u001b[0m",
      "\u001b[1;31mNameError\u001b[0m                                 Traceback (most recent call last)",
      "\u001b[1;32m<ipython-input-39-750df2c671c9>\u001b[0m in \u001b[0;36m<module>\u001b[1;34m\u001b[0m\n\u001b[1;32m----> 1\u001b[1;33m \u001b[0mpnasnet5large\u001b[0m\u001b[1;33m\u001b[0m\u001b[1;33m\u001b[0m\u001b[0m\n\u001b[0m",
      "\u001b[1;31mNameError\u001b[0m: name 'pnasnet5large' is not defined"
     ]
    }
   ],
   "source": [
    "pnasnet5large"
   ]
  },
  {
   "cell_type": "code",
   "execution_count": 40,
   "metadata": {},
   "outputs": [],
   "source": [
    "from fastai.vision.models.cadene_models import pnasnet5large"
   ]
  },
  {
   "cell_type": "code",
   "execution_count": 41,
   "metadata": {},
   "outputs": [
    {
     "name": "stdout",
     "output_type": "stream",
     "text": [
      "(0) PNASNet5Large: 839 layers (total: 839)\n"
     ]
    }
   ],
   "source": [
    "arch_summary(pnasnet5large)"
   ]
  },
  {
   "cell_type": "code",
   "execution_count": 43,
   "metadata": {},
   "outputs": [],
   "source": [
    "learn = create_cnn(FakeData(), pnasnet5large, pretrained=True)"
   ]
  },
  {
   "cell_type": "code",
   "execution_count": 44,
   "metadata": {},
   "outputs": [
    {
     "name": "stdout",
     "output_type": "stream",
     "text": [
      "Group 1: ['Sequential', 'CellStem0', 'Cell', 'Cell', 'Cell', 'Cell', 'Cell', 'Cell']\n",
      "Group 2: ['Cell', 'Cell', 'Cell', 'Cell', 'Cell', 'Cell', 'Cell', 'ReLU', 'AvgPool2d', 'Dropout', 'Linear']\n",
      "Group 3: ['AdaptiveConcatPool2d', 'Flatten', 'BatchNorm1d', 'Dropout', 'Linear', 'ReLU', 'BatchNorm1d', 'Dropout', 'Linear']\n"
     ]
    }
   ],
   "source": [
    "get_groups(nn.Sequential(*learn.model[0][0].children(), *learn.model[1]), learn.layer_groups)"
   ]
  },
  {
   "cell_type": "code",
   "execution_count": 45,
   "metadata": {},
   "outputs": [
    {
     "name": "stdout",
     "output_type": "stream",
     "text": [
      "tensor([[0.2652, 0.6582]])\n"
     ]
    }
   ],
   "source": [
    "with torch.no_grad():\n",
    "    learn.model.eval()\n",
    "    print(learn.model(torch.randn(1,3,96,96)))"
   ]
  },
  {
   "cell_type": "code",
   "execution_count": null,
   "metadata": {},
   "outputs": [],
   "source": []
  },
  {
   "cell_type": "code",
   "execution_count": null,
   "metadata": {},
   "outputs": [],
   "source": []
  },
  {
   "cell_type": "code",
   "execution_count": null,
   "metadata": {},
   "outputs": [],
   "source": []
  },
  {
   "cell_type": "code",
   "execution_count": null,
   "metadata": {},
   "outputs": [],
   "source": []
  },
  {
   "cell_type": "code",
   "execution_count": 14,
   "metadata": {},
   "outputs": [],
   "source": [
    "import pretrainedmodels"
   ]
  },
  {
   "cell_type": "code",
   "execution_count": 16,
   "metadata": {},
   "outputs": [],
   "source": [
    "def inceptionresnetv2(pretrained=False):\n",
    "    pretrained = 'imagenet' if pretrained else None\n",
    "    model = pretrainedmodels.inceptionresnetv2(pretrained=pretrained)\n",
    "    return nn.Sequential(*model.children())"
   ]
  },
  {
   "cell_type": "code",
   "execution_count": 17,
   "metadata": {},
   "outputs": [
    {
     "name": "stdout",
     "output_type": "stream",
     "text": [
      "(0) BasicConv2d : 3   layers (total: 3)\n",
      "(1) BasicConv2d : 3   layers (total: 6)\n",
      "(2) BasicConv2d : 3   layers (total: 9)\n",
      "(3) MaxPool2d   : 1   layers (total: 10)\n",
      "(4) BasicConv2d : 3   layers (total: 13)\n",
      "(5) BasicConv2d : 3   layers (total: 16)\n",
      "(6) MaxPool2d   : 1   layers (total: 17)\n",
      "(7) Mixed_5b    : 22  layers (total: 39)\n",
      "(8) Sequential  : 200 layers (total: 239)\n",
      "(9) Mixed_6a    : 13  layers (total: 252)\n",
      "(10) Sequential  : 280 layers (total: 532)\n",
      "(11) Mixed_7a    : 22  layers (total: 554)\n",
      "(12) Sequential  : 126 layers (total: 680)\n",
      "(13) Block8      : 13  layers (total: 693)\n",
      "(14) BasicConv2d : 3   layers (total: 696)\n",
      "(15) AvgPool2d   : 1   layers (total: 697)\n",
      "(16) Linear      : 1   layers (total: 698)\n"
     ]
    }
   ],
   "source": [
    "arch_summary(inceptionresnetv2)"
   ]
  },
  {
   "cell_type": "code",
   "execution_count": 18,
   "metadata": {},
   "outputs": [],
   "source": [
    "learn = create_cnn(FakeData(), inceptionresnetv2, pretrained=False,\n",
    "                   cut=-2, split_on=lambda m: (m[0][9], m[1]))"
   ]
  },
  {
   "cell_type": "code",
   "execution_count": 19,
   "metadata": {},
   "outputs": [
    {
     "name": "stdout",
     "output_type": "stream",
     "text": [
      "Group 1: ['BasicConv2d', 'BasicConv2d', 'BasicConv2d', 'MaxPool2d', 'BasicConv2d', 'BasicConv2d', 'MaxPool2d', 'Mixed_5b', 'Sequential']\n",
      "Group 2: ['Mixed_6a', 'Sequential', 'Mixed_7a', 'Sequential', 'Block8', 'BasicConv2d']\n",
      "Group 3: ['AdaptiveConcatPool2d', 'Flatten', 'BatchNorm1d', 'Dropout', 'Linear', 'ReLU', 'BatchNorm1d', 'Dropout', 'Linear']\n"
     ]
    }
   ],
   "source": [
    "get_groups(nn.Sequential(*learn.model[0], *learn.model[1]), learn.layer_groups)"
   ]
  },
  {
   "cell_type": "code",
   "execution_count": null,
   "metadata": {},
   "outputs": [],
   "source": []
  }
 ],
 "metadata": {
  "kernelspec": {
   "display_name": "Python 3",
   "language": "python",
   "name": "python3"
  },
  "language_info": {
   "codemirror_mode": {
    "name": "ipython",
    "version": 3
   },
   "file_extension": ".py",
   "mimetype": "text/x-python",
   "name": "python",
   "nbconvert_exporter": "python",
   "pygments_lexer": "ipython3",
   "version": "3.7.1"
  }
 },
 "nbformat": 4,
 "nbformat_minor": 2
}
